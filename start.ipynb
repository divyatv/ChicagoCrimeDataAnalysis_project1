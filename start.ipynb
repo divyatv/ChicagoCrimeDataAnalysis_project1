{
 "cells": [
  {
   "cell_type": "code",
   "execution_count": 1,
   "metadata": {},
   "outputs": [
    {
     "name": "stdout",
     "output_type": "stream",
     "text": [
      "Requirement already satisfied: import_ipynb in c:\\users\\skao2\\anaconda3\\envs\\pythondata\\lib\\site-packages (0.1.3)\n",
      "importing Jupyter notebook from crimes_weather.ipynb\n",
      "importing Jupyter notebook from divya_crime_plot_factcheck.ipynb\n"
     ]
    }
   ],
   "source": [
    "!pip install import_ipynb\n",
    "import import_ipynb\n",
    "from  crimes_weather import *\n",
    "from divya_crime_plot_factcheck import *\n",
    "import ipywidgets as widgets\n",
    "from IPython.display import display\n",
    "from ipywidgets import Layout"
   ]
  },
  {
   "cell_type": "code",
   "execution_count": 2,
   "metadata": {},
   "outputs": [],
   "source": [
    "crimes = widgets.SelectMultiple(\n",
    "    options=['THEFT', 'BATTERY', 'CRIMINAL DAMAGE', 'NARCOTICS', 'ASSAULT', 'OTHER OFFENSE',\n",
    "    'BURGLARY', 'MOTOR VEHICLE THEFT', 'DECEPTIVE PRACTICE', 'ROBBERY', 'CRIMINAL TRESPASS',\n",
    "    'WEAPONS VIOLATION', 'PROSTITUTION', 'OFFENSE INVOLVING CHILDREN', 'PUBLIC PEACE VIOLATION',\n",
    "    'CRIM SEXUAL ASSAULT', 'SEX OFFENSE', 'INTERFERENCE WITH PUBLIC OFFICER', 'GAMBLING',\n",
    "    'LIQUOR LAW VIOLATION', 'ARSON', 'HOMICIDE', 'KIDNAPPING', 'INTIMIDATION', 'STALKING',\n",
    "    'OBSCENITY', 'CONCEALED CARRY LICENSE VIOLATION', 'PUBLIC INDECENCY', 'OTHER NARCOTIC VIOLATION',\n",
    "    'HUMAN TRAFFICKING','RITUALISM', 'DOMESTIC VIOLENCE'\n",
    "    ],\n",
    "    value=['THEFT', 'BATTERY', 'CRIMINAL DAMAGE', 'NARCOTICS', 'ASSAULT'],\n",
    "    rows=20,\n",
    "    description='Crimes',\n",
    "    disabled=False,\n",
    "    layout=Layout(width='320px',border='solid',height='100px', top='0px', left='0px')\n",
    ")\n",
    "\n",
    "wards = widgets.SelectMultiple(\n",
    "    options=['1', '2', '3', '4', '5', '6', '7', '8', '9', '10', '11', '12', '13', '14', '15', \n",
    "             '16', '17', '18', '19', '20', '21', '22', '23', '24', '25', '26', '27', '28', \n",
    "             '29', '30', '31', '32', '33', '34', '35', '36', '37', '38', '39', '40',\n",
    "             '41', '42', '43', '44', '45', '46', '47', '48', '49', '50'],\n",
    "    value=['1', '2', '3', '4', '5', '6', '7', '8', '9', '10', '11', '12', '13', '14', '15', \n",
    "             '16', '17', '18', '19', '20', '21', '22', '23', '24', '25', '26', '27', '28', \n",
    "             '29', '30', '31', '32', '33', '34', '35', '36', '37', '38', '39', '40',\n",
    "             '41', '42', '43', '44', '45', '46', '47', '48', '49', '50'],\n",
    "    rows=20,\n",
    "    description='Wards',\n",
    "    disabled=False,\n",
    "    layout=Layout(width='150px',border='solid',height='100px', top='-170px', left='325px')\n",
    ")\n",
    "\n",
    "years = widgets.IntRangeSlider(\n",
    "    value=[2015, 2019],\n",
    "    min=2001,\n",
    "    max=2019,\n",
    "    step=1,\n",
    "    description='Years',\n",
    "    disabled=False,\n",
    "    continuous_update=False,\n",
    "    orientation='horizontal',\n",
    "    readout=True,\n",
    "    readout_format='d',\n",
    "    layout=Layout(width='250px',border='solid', top='-274px', left='480px')\n",
    ")\n",
    "\n",
    "weather = widgets.Dropdown(\n",
    "    options=['Temperature daily max (F)', 'Humidity daily mean', 'Mean Sea Level Pressure daily mean',\n",
    "            'Precipitation daily sum', 'Total Cloud Cover daily mean', 'Sunshine Duration daily sum',\n",
    "            'Wind Speed daily mean'],\n",
    "    value='Total Cloud Cover daily mean',\n",
    "    description='Weather:',\n",
    "    disabled=False,\n",
    "    layout=Layout(width='250px',border='solid', height='60px', top='-70px', left='480px')\n",
    ")\n",
    "\n",
    "start_date = widgets.DatePicker(\n",
    "    description='started Date',\n",
    "    disabled=False,\n",
    "    layout=Layout(width='245px',height='30px',border='solid', top='-305px', left='733px')\n",
    ")\n",
    "\n",
    "end_date = widgets.DatePicker(\n",
    "    description='ended Date',\n",
    "    disabled=False,\n",
    "    layout=Layout(width='250px',height='30px',border='solid', top='-300px', left='733px')\n",
    ")\n",
    "\n",
    "gkey = widgets.Password(\n",
    "    description='api key:', \n",
    "    placeholder='Google api key',\n",
    "    disabled=False,\n",
    "    layout=Layout(width='250px',height='30px',border='solid', top='-297px', left='733px')\n",
    ")\n",
    "\n",
    "ptype = widgets.RadioButtons(\n",
    "    options=['Weather Crime line plot', \n",
    "             'Weather Crime scatter plot',\n",
    "             'Crime Count on Ward',\n",
    "             'Crime Count Per Month line plot',\n",
    "             'Crime Count Per Month bar plot',\n",
    "             'Crime Distribution map'],\n",
    "    value='Weather Crime line plot',\n",
    "    description='Plot',\n",
    "    color='r',\n",
    "    disabled=False,\n",
    "    #layout=Layout(width='210px',height='100px',border='solid', top='-305px', left='750px')\n",
    "    layout=Layout(width='330px',height='130px',border='solid', top='-290px', left='0px')\n",
    ")\n",
    "\n",
    "#widget interactive plot\n",
    "def update_plot(crimes, weather, wards, years, start_date, end_date, key, ptype):\n",
    "    if ptype == 'Weather Crime line plot':\n",
    "        plot_crime_weather( df = crimes_weather_df, plot_type='line',  offense_types = crimes[:3],\n",
    "                   meas_type = weather, years = years, from_widget = True)\n",
    "    elif ptype ==   'Weather Crime scatter plot':\n",
    "        plot_crime_weather( df = crimes_weather_df, plot_type='scatter',  offense_types = crimes[:3],\n",
    "                   meas_type = weather, years = years, from_widget = True)\n",
    "    elif ptype ==    'Crime Count on Ward':\n",
    "        plot_crimes_wards(df = crimes_count_df, plot_type = 'bar', offense_types = crimes[:3], \\\n",
    "                       wards=[ int(i) for i in wards ], years = years, from_widget = True)\n",
    "    elif ptype ==     'Crime Count Per Month line plot':\n",
    "        plot_crime_counts(df = crimes_count_df, plot_type = 'line2', offense_types = crimes[:3], years = years)\n",
    "    elif ptype ==     'Crime Count Per Month bar plot':\n",
    "        plot_crime_counts(df = crimes_count_df, plot_type = 'bar2', offense_types = crimes[:3], years = years)\n",
    "    elif ptype ==  'Crime Distribution map':\n",
    "        print('start date=', start_date, '  end_date=', end_date, \"  type=\", type(start_date))\n",
    "        #years.close()\n",
    "        get_crime_dist_map(df= crime_df, crime_types=crimes, start_date =start_date, end_date = end_date, key=key)\n",
    "    else:\n",
    "       print('not supported ...')   "
   ]
  },
  {
   "cell_type": "code",
   "execution_count": 3,
   "metadata": {},
   "outputs": [
    {
     "name": "stdout",
     "output_type": "stream",
     "text": [
      "elapsed time= 761.4268274307251\n",
      "columns= ['Date', 'Year', 'Month', 'Humidity daily mean', 'Mean Sea Level Pressure daily mean', 'Precipitation daily sum', 'Total Cloud Cover daily mean', 'Sunshine Duration daily sum', 'Wind Speed daily mean', 'Temperature daily max (F)']\n"
     ]
    }
   ],
   "source": [
    "crime_df = read_crime_data()\n",
    "crimes_count_df = get_crimes_count(crime_df)\n",
    "weather_df = read_weather_data()\n",
    "crimes_weather_df = get_crime_weather_merged(crimes_count_df, weather_df)\n",
    "#inprogress.close()"
   ]
  },
  {
   "cell_type": "code",
   "execution_count": 4,
   "metadata": {},
   "outputs": [
    {
     "data": {
      "application/vnd.jupyter.widget-view+json": {
       "model_id": "e23fc86470794a53bd766b3454cc766c",
       "version_major": 2,
       "version_minor": 0
      },
      "text/plain": [
       "interactive(children=(SelectMultiple(description='Crimes', index=(0, 1, 2, 3, 4), layout=Layout(border='solid'…"
      ]
     },
     "metadata": {},
     "output_type": "display_data"
    }
   ],
   "source": [
    "widgets.interactive(update_plot, crimes = crimes,  weather=weather, wards =wards, years=years,\\\n",
    "                  start_date = start_date, end_date = end_date,  key=gkey, ptype=ptype )"
   ]
  },
  {
   "cell_type": "code",
   "execution_count": 5,
   "metadata": {},
   "outputs": [
    {
     "data": {
      "application/vnd.jupyter.widget-view+json": {
       "model_id": "86153b3d98544362b01a3c77923cff0f",
       "version_major": 2,
       "version_minor": 0
      },
      "text/plain": [
       "IntProgress(value=0)"
      ]
     },
     "metadata": {},
     "output_type": "display_data"
    }
   ],
   "source": [
    "from ipywidgets import IntProgress\n",
    "from IPython.display import display\n",
    "import time\n",
    "\n",
    "max_count = 100\n",
    "\n",
    "f = IntProgress(min=0, max=max_count) # instantiate the bar\n",
    "display(f) # display the bar\n",
    "\n",
    "count = 0\n",
    "while count <= max_count:\n",
    "    f.value += 1 # signal to increment the progress bar\n",
    "    time.sleep(.1)\n",
    "    count += 1"
   ]
  },
  {
   "cell_type": "code",
   "execution_count": null,
   "metadata": {},
   "outputs": [],
   "source": []
  }
 ],
 "metadata": {
  "kernelspec": {
   "display_name": "Python 3",
   "language": "python",
   "name": "python3"
  },
  "language_info": {
   "codemirror_mode": {
    "name": "ipython",
    "version": 3
   },
   "file_extension": ".py",
   "mimetype": "text/x-python",
   "name": "python",
   "nbconvert_exporter": "python",
   "pygments_lexer": "ipython3",
   "version": "3.7.3"
  }
 },
 "nbformat": 4,
 "nbformat_minor": 2
}
