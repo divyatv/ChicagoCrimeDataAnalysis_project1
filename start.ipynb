{
 "cells": [
  {
   "cell_type": "code",
   "execution_count": 5,
   "metadata": {},
   "outputs": [
    {
     "name": "stdout",
     "output_type": "stream",
     "text": [
      "Requirement already satisfied: import_ipynb in c:\\users\\skao2\\anaconda3\\envs\\pythondata\\lib\\site-packages (0.1.3)\n"
     ]
    }
   ],
   "source": [
    "!pip install import_ipynb\n",
    "import import_ipynb\n",
    "from  crimes_weather import *\n",
    "import ipywidgets as widgets\n",
    "from IPython.display import display\n",
    "from ipywidgets import Layout"
   ]
  },
  {
   "cell_type": "code",
   "execution_count": 50,
   "metadata": {},
   "outputs": [],
   "source": [
    "#widget interactive plot\n",
    "def update_plot(crimes, weather, wards, years, ptype):\n",
    "    if ptype == 'Weather Crime line plot':\n",
    "        plot_crime_weather( df = crimes_weather_df, plot_type='line',  offense_types = crimes[:3],\n",
    "                   meas_type = weather, years = years, from_widget = True)\n",
    "    elif ptype ==   'Weather Crime scatter plot':\n",
    "        plot_crime_weather( df = crimes_weather_df, plot_type='scatter',  offense_types = crimes[:3],\n",
    "                   meas_type = weather, years = years, from_widget = True)\n",
    "    elif ptype ==    'Crime Cound on Ward':\n",
    "        plot_crimes_wards(df = crimes_count_df, plot_type = 'bar', offense_types = crimes[:3], \\\n",
    "                       wards=[ int(i) for i in wards ], years = years, from_widget = True)\n",
    "    elif ptype ==     'Crime Count Per Month line plot':\n",
    "        plot_crime_counts(df = crimes_count_df, plot_type = 'line2', offense_types = crimes[:3], years = years)\n",
    "    elif ptype ==     'Crime Count Per Month bar plot':\n",
    "        plot_crime_counts(df = crimes_count_df, plot_type = 'bar2', offense_types = crimes[:3], years = years)\n",
    "    else:\n",
    "       print('not supported ...')     \n",
    "    \n",
    "crimes = widgets.SelectMultiple(\n",
    "    options=['THEFT', 'BATTERY', 'CRIMINAL DAMAGE', 'NARCOTICS', 'ASSAULT', 'OTHER OFFENSE',\n",
    "    'BURGLARY', 'MOTOR VEHICLE THEFT', 'DECEPTIVE PRACTICE', 'ROBBERY', 'CRIMINAL TRESPASS',\n",
    "    'WEAPONS VIOLATION', 'PROSTITUTION', 'OFFENSE INVOLVING CHILDREN', 'PUBLIC PEACE VIOLATION',\n",
    "    'CRIM SEXUAL ASSAULT', 'SEX OFFENSE', 'INTERFERENCE WITH PUBLIC OFFICER', 'GAMBLING',\n",
    "    'LIQUOR LAW VIOLATION', 'ARSON', 'HOMICIDE', 'KIDNAPPING', 'INTIMIDATION', 'STALKING',\n",
    "    'OBSCENITY', 'CONCEALED CARRY LICENSE VIOLATION', 'PUBLIC INDECENCY', 'OTHER NARCOTIC VIOLATION',\n",
    "    'HUMAN TRAFFICKING','RITUALISM', 'DOMESTIC VIOLENCE'\n",
    "    ],\n",
    "    value=['THEFT', 'BATTERY', 'CRIMINAL DAMAGE', 'NARCOTICS', 'ASSAULT'],\n",
    "    rows=20,\n",
    "    description='Crimes',\n",
    "    disabled=False,\n",
    "    layout=Layout(width='320px',border='solid',height='100px', top='0px', left='0px')\n",
    ")\n",
    "\n",
    "wards = widgets.SelectMultiple(\n",
    "    options=['1', '2', '3', '4', '5', '6', '7', '8', '9', '10', '11', '12', '13', '14', '15', \n",
    "             '16', '17', '18', '19', '20', '21', '22', '23', '24', '25', '26', '27', '28', \n",
    "             '29', '30', '31', '32', '33', '34', '35', '36', '37', '38', '39', '40',\n",
    "             '41', '42', '43', '44', '45', '46', '47', '48', '49', '50'],\n",
    "    value=['1', '2', '3', '4', '5', '6', '7', '8', '9', '10', '11', '12', '13', '14', '15', \n",
    "             '16', '17', '18', '19', '20', '21', '22', '23', '24', '25', '26', '27', '28', \n",
    "             '29', '30', '31', '32', '33', '34', '35', '36', '37', '38', '39', '40',\n",
    "             '41', '42', '43', '44', '45', '46', '47', '48', '49', '50'],\n",
    "    rows=20,\n",
    "    description='Wards',\n",
    "    disabled=False,\n",
    "    layout=Layout(width='150px',border='solid',height='100px', top='-170px', left='330px')\n",
    ")\n",
    "\n",
    "years = widgets.IntRangeSlider(\n",
    "    value=[2018, 2019],\n",
    "    min=2001,\n",
    "    max=2019,\n",
    "    step=1,\n",
    "    description='Years',\n",
    "    disabled=False,\n",
    "    continuous_update=False,\n",
    "    orientation='horizontal',\n",
    "    readout=True,\n",
    "    readout_format='d',\n",
    "    layout=Layout(width='250px',border='solid', top='-274px', left='490px')\n",
    ")\n",
    "\n",
    "weather = widgets.Dropdown(\n",
    "    options=['Temperature daily mean (F)', 'Humidity daily mean', 'Mean Sea Level Pressure daily mean',\n",
    "            'Precipitation daily sum', 'Total Cloud Cover daily mean', 'Sunshine Duration daily sum',\n",
    "            'Wind Speed daily mean'],\n",
    "    value='Total Cloud Cover daily mean',\n",
    "    description='Weather:',\n",
    "    disabled=False,\n",
    "    layout=Layout(width='250px',border='solid', height='60px', top='-70px', left='490px')\n",
    ")\n",
    "\n",
    "ptype = widgets.RadioButtons(\n",
    "    options=['Weather Crime line plot', \n",
    "             'Weather Crime scatter plot',\n",
    "             'Crime Cound on Ward',\n",
    "             'Crime Count Per Month line plot',\n",
    "             'Crime Count Per Month bar plot'],\n",
    "    value='Weather Crime line plot',\n",
    "    description='Plot',\n",
    "    disabled=False,\n",
    "    #layout=Layout(width='210px',height='100px',border='solid', top='-305px', left='750px')\n",
    "    layout=Layout(width='330px',height='110px',border='solid', top='-180px', left='0px')\n",
    ")"
   ]
  },
  {
   "cell_type": "code",
   "execution_count": 7,
   "metadata": {},
   "outputs": [
    {
     "name": "stdout",
     "output_type": "stream",
     "text": [
      "elapsed time= 769.0591790676117\n"
     ]
    }
   ],
   "source": [
    "crimes_count_df = get_crimes_count()\n",
    "weather_df = get_weather()\n",
    "crimes_weather_df = get_crime_weather_merged(crimes_count_df, weather_df)\n",
    "\n"
   ]
  },
  {
   "cell_type": "code",
   "execution_count": 51,
   "metadata": {
    "scrolled": true
   },
   "outputs": [
    {
     "data": {
      "application/vnd.jupyter.widget-view+json": {
       "model_id": "5922ee3ee43a44359fc86e0fbf682846",
       "version_major": 2,
       "version_minor": 0
      },
      "text/plain": [
       "interactive(children=(SelectMultiple(description='Crimes', index=(0, 1, 2, 3, 4), layout=Layout(border='solid'…"
      ]
     },
     "metadata": {},
     "output_type": "display_data"
    }
   ],
   "source": [
    "widgets.interactive(update_plot, crimes = crimes,  weather=weather, wards =wards, years=years, ptype=ptype )"
   ]
  },
  {
   "cell_type": "code",
   "execution_count": null,
   "metadata": {},
   "outputs": [],
   "source": []
  }
 ],
 "metadata": {
  "kernelspec": {
   "display_name": "Python 3",
   "language": "python",
   "name": "python3"
  },
  "language_info": {
   "codemirror_mode": {
    "name": "ipython",
    "version": 3
   },
   "file_extension": ".py",
   "mimetype": "text/x-python",
   "name": "python",
   "nbconvert_exporter": "python",
   "pygments_lexer": "ipython3",
   "version": "3.7.3"
  }
 },
 "nbformat": 4,
 "nbformat_minor": 2
}
