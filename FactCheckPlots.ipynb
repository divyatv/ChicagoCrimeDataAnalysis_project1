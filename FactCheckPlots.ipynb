{
 "cells": [
  {
   "cell_type": "code",
   "execution_count": null,
   "metadata": {},
   "outputs": [],
   "source": [
    "###Import required libraries####################################\n",
    "%matplotlib inline\n",
    "# Dependencies and Setup\n",
    "import matplotlib.pyplot as plt\n",
    "import pandas as pd\n",
    "import numpy as np\n",
    "# import seaborn as sns\n",
    "### importing modules for gmplots - plot og google map\n",
    "import gmaps\n",
    "import gmplot\n",
    "### importing modules for plot on screen\n",
    "from IPython.display import IFrame\n",
    "from IPython.core.display import display\n",
    "import os\n",
    "import time\n",
    "\n",
    "import seaborn as sns"
   ]
  },
  {
   "cell_type": "code",
   "execution_count": null,
   "metadata": {},
   "outputs": [],
   "source": [
    "def simulate_police_report(df,years, crime_types=[]) :\n",
    "    print('start reading ..... ', time.asctime(time.localtime(time.time())) )\n",
    "    print('crime types=', crime_types)\n",
    "    print('years=', years)\n",
    "#     if years == None  or crime_types == None:\n",
    "#         return\n",
    "#     start_time = time.time()\n",
    "    cols = list(df.columns.values)\n",
    "    policedf = pd.DataFrame(columns=cols)   # empty data frame\n",
    "    for year in years:\n",
    "        for crimetype in crime_types:\n",
    "            #df2 = df.loc[df['Primary Type']== i, : ]\n",
    "            #policedf = policedf.append(df2, ignore_index = True)\n",
    "            df2=df.loc[(df['Primary Type']== crimetype) & (df['Year']== year), :]\n",
    "            policedf = policedf.append(df2, ignore_index = True)\n",
    "            policedf = policedf.dropna()\n",
    "####Write the csv file\n",
    "            policedf.to_csv(\"crime_datadf_selectedtype.csv\", index = None, header=True)"
   ]
  },
  {
   "cell_type": "code",
   "execution_count": null,
   "metadata": {},
   "outputs": [],
   "source": [
    "years=[2011, 2012, 2013, 2014, 2015, 2016, 2017, 2018, 2019]\n",
    "file = os.path.join('Resources','Crimes_2001_to_present.csv')\n",
    "df = pd.read_csv(file)\n",
    "    \n",
    "crime_types=['ASSAULT', 'BURGLARY', 'MOTOR VEHICLE THEFT', 'HOMICIDE', 'THEFT', 'CRIM SEXUAL ASSAULT']\n",
    "    \n",
    "####################################################################################################\n",
    "### Function driver code to plot the crime count per year for the crimes police department follows\n",
    "####################################################################################################\n",
    "    \n",
    "simulate_police_report(df, years, crime_types)\n",
    "    \n",
    "     ### Create a new dataframe which will have crime types and years with their counts for each\n",
    "file_to_load = \"crime_datadf_selectedtype.csv\"\n",
    "\n",
    "    #printing the path of the file\n",
    "print (\"path of the file\", file_to_load)\n",
    "\n",
    "     # Read Purchasing File and store into Pandas data frame\n",
    "crimedata_selected = pd.read_csv(file_to_load)\n",
    "\n",
    "## Create datframe filetered by crime type, year and counts the number of occurrences.\n",
    "summarydf=crimedata_selected.groupby(['Primary Type','Year'])['ID'].count()\n",
    "summarydf=pd.DataFrame(summarydf)\n",
    "summarydf.head(30)\n",
    "    \n",
    "\n",
    " \n",
    "\n"
   ]
  },
  {
   "cell_type": "code",
   "execution_count": null,
   "metadata": {},
   "outputs": [],
   "source": [
    "import seaborn as sns\n",
    "\n",
    "plt.figure(figsize = (15, 10))\n",
    "sns.countplot(y= 'Location Description', data = crimedata_selected, order =\n",
    "              crimedata_selected['Location Description'].value_counts().iloc[:18].index) "
   ]
  },
  {
   "cell_type": "code",
   "execution_count": null,
   "metadata": {},
   "outputs": [],
   "source": [
    "####### Fact check - Chicago reported high homicides in 2016 - lets plot that with our dataset\n",
    "from matplotlib.pyplot import figure\n",
    "from matplotlib import *\n",
    "import matplotlib.pyplot as plt\n",
    "\n",
    "dates=crimedata_selected.groupby(\"Year\")['ID'].count()\n",
    "#city_crime_data_df[\"Month\"] = city_crime_data_df[\"Date\"].str.extract('(^\\d\\d)')\n",
    "#print(dates)\n",
    "plotdf=pd.DataFrame(dates)\n",
    "plotdf=plotdf.rename(columns={\"Year\": \"Years\", \"ID\": \"Count\"})\n",
    "y=list(plotdf['Count'])\n",
    "x=list(plotdf.index)\n",
    "plotdf.head(30)\n",
    "\n",
    "plotdf.plot.line()\n",
    "#plt.plot(x, y,color='red')\n",
    "plt.xlabel(\"years\")\n",
    "plt.ylabel(\"Homicide count\")\n",
    "plt.title(\"Chicago homicide numbers\")\n",
    "plt.figure(figsize=(60,70))\n",
    "\n",
    "plt.show()"
   ]
  }
 ],
 "metadata": {
  "kernelspec": {
   "display_name": "Python [conda env:PythonData] *",
   "language": "python",
   "name": "conda-env-PythonData-py"
  },
  "language_info": {
   "codemirror_mode": {
    "name": "ipython",
    "version": 3
   },
   "file_extension": ".py",
   "mimetype": "text/x-python",
   "name": "python",
   "nbconvert_exporter": "python",
   "pygments_lexer": "ipython3",
   "version": "3.7.3"
  }
 },
 "nbformat": 4,
 "nbformat_minor": 2
}
